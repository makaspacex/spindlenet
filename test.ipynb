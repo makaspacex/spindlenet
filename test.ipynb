{
 "cells": [
  {
   "cell_type": "code",
   "execution_count": 14,
   "metadata": {},
   "outputs": [
    {
     "data": {
      "text/plain": [
       "dict_keys(['chars', 'sp_tokens', 'protos', 'master', 'servants', 'foes', 'relationships', 'achars', 'label_dict'])"
      ]
     },
     "execution_count": 14,
     "metadata": {},
     "output_type": "execute_result"
    }
   ],
   "source": [
    "import torch\n",
    "import pickle\n",
    "import numpy as np\n",
    "import matplotlib.pyplot as  plt\n",
    "\n",
    "images_t = torch.load(\"recdatassd/TKHMTH2200_test_all/dict_test_all.pt\")\n",
    "images_t.keys()\n"
   ]
  },
  {
   "cell_type": "code",
   "execution_count": 17,
   "metadata": {},
   "outputs": [
    {
     "name": "stdout",
     "output_type": "stream",
     "text": [
      "好 0.3794466403162055 0.1875\n"
     ]
    },
    {
     "data": {
      "image/png": "[encoded data removed]",
      "text/plain": [
       "<Figure size 640x480 with 1 Axes>"
      ]
     },
     "metadata": {},
     "output_type": "display_data"
    }
   ],
   "source": [
    "# i = 4019\n",
    "i = images_t['label_dict'][\"好\"]\n",
    "\n",
    "char = images_t['chars'][i-1]\n",
    "\n",
    "img_gray = images_t['protos'][i][0,0,:,:]\n",
    "\n",
    "xs, ys = torch.where(img_gray >0)\n",
    "x1,y1,x2,y2 = min(xs),min(ys), max(xs), max(ys)\n",
    "\n",
    "area = float((x2-x1) * (y2 - y1))\n",
    "area_all = len(img_gray.reshape(-1))\n",
    "none_zero = len(xs)\n",
    "\n",
    "complex_r = none_zero/area\n",
    "complex_r2 = none_zero/area_all\n",
    "\n",
    "print(char, complex_r, complex_r2)\n",
    "\n",
    "plt.imshow(img_gray,cmap='gray');\n"
   ]
  },
  {
   "cell_type": "code",
   "execution_count": 19,
   "metadata": {},
   "outputs": [
    {
     "name": "stdout",
     "output_type": "stream",
     "text": [
      "TS:25262 CR:0.9358 AR:0.9291 ACC:0.6618 L_ACC:0.9541603990182883 L_ins_N:1771 L_del_N:1321 L_sub_N:15577\n"
     ]
    }
   ],
   "source": [
    "from util.eval_res import MakaEval\n",
    "\n",
    "f_path = \"runtime/OSTR_C2J_DTA_Only_MTH/eval_res/TKHMTH2200_spindle_ori_TKHMTH2200__E16.pt\"\n",
    "maka_eval:MakaEval = torch.load(f_path)\n",
    "print(maka_eval)\n"
   ]
  },
  {
   "cell_type": "code",
   "execution_count": null,
   "metadata": {},
   "outputs": [],
   "source": [
    "maka_eval.total_sub_cs\n",
    "\n",
    "# '掲', '揭'\n",
    "\n",
    "\n",
    "\n"
   ]
  },
  {
   "cell_type": "code",
   "execution_count": 7,
   "metadata": {},
   "outputs": [
    {
     "data": {
      "text/plain": [
       "1758759194.0"
      ]
     },
     "execution_count": 7,
     "metadata": {},
     "output_type": "execute_result"
    }
   ],
   "source": [
    "from datetime import datetime\n",
    "\n",
    "s = '2025-09-25 08:13:14'\n",
    "dt = datetime.strptime(s, '%Y-%m-%d %H:%M:%S')\n",
    "dt.timestamp()\n",
    "\n"
   ]
  },
  {
   "cell_type": "code",
   "execution_count": 5,
   "metadata": {},
   "outputs": [
    {
     "name": "stdout",
     "output_type": "stream",
     "text": [
      "2199023255552\n"
     ]
    }
   ],
   "source": [
    "# 1395864371200\n",
    "# 1099511627776\n",
    "\n",
    "a = 1024 * 1024 * 1024 * 1024 * 2\n",
    "print(a)\n"
   ]
  },
  {
   "cell_type": "code",
   "execution_count": null,
   "metadata": {},
   "outputs": [],
   "source": []
  }
 ],
 "metadata": {
  "kernelspec": {
   "display_name": "vsdf",
   "language": "python",
   "name": "python3"
  },
  "language_info": {
   "codemirror_mode": {
    "name": "ipython",
    "version": 3
   },
   "file_extension": ".py",
   "mimetype": "text/x-python",
   "name": "python",
   "nbconvert_exporter": "python",
   "pygments_lexer": "ipython3",
   "version": "3.8.16"
  },
  "orig_nbformat": 4
 },
 "nbformat": 4,
 "nbformat_minor": 2
}
