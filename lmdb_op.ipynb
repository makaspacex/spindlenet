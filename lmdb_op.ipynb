{
 "cells": [
  {
   "cell_type": "code",
   "execution_count": null,
   "metadata": {},
   "outputs": [],
   "source": [
    "import lmdb\n",
    "db_path = \"ddata/MTH_DB/MTH1200\"\n",
    "env = lmdb.open(db_path)\n",
    "with env.begin(write=False) as txn:\n",
    "    length = txn.stat()['entries']\n",
    "    print(length)\n",
    "    keys = list(txn.cursor().iternext(values=False))\n",
    "    print(len(keys))\n",
    "env.close()"
   ]
  }
 ],
 "metadata": {
  "language_info": {
   "name": "python"
  },
  "orig_nbformat": 4
 },
 "nbformat": 4,
 "nbformat_minor": 2
}
