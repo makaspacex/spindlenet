{
 "cells": [
  {
   "cell_type": "code",
   "execution_count": 20,
   "metadata": {},
   "outputs": [],
   "source": [
    "import glob\n",
    "import opencc\n",
    "\n",
    "def make_alphabet(text_file_list,dest_file_path):\n",
    "    res_dict = {}\n",
    "    res_set = set()\n",
    "    converter = opencc.OpenCC('s2t.json')\n",
    "    for t_path  in text_file_list:\n",
    "        with open(t_path, 'r') as f:\n",
    "            lines = f.readlines()\n",
    "            for line in lines:\n",
    "                a = line.split(\" \")[0]\n",
    "                b = converter.convert(a)\n",
    "                res_set.add(b.upper())\n",
    "    conv_t2s = opencc.OpenCC('t2s.json')\n",
    "    for t_c in res_set:\n",
    "        s_c = conv_t2s.convert(t_c).lower()\n",
    "        res_dict[t_c] = set([t_c, s_c])\n",
    "    \n",
    "    with open(dest_file_path, 'w+') as f:\n",
    "        for key, ele in res_dict.items():\n",
    "            _x = \" \".join(list(ele))\n",
    "            f.write(f\"{_x}\\n\")\n",
    "\n",
    "make_alphabet(glob.glob(\"ddata/TKHMTH2200/MTH1000/label_char/*.txt\"),\"ddata/quickviet/alphabet_MTH1000.txt\")\n",
    "make_alphabet(glob.glob(\"ddata/TKHMTH2200/MTH1200/label_char/*.txt\"),\"ddata/quickviet/alphabet_MTH1200.txt\")\n",
    "make_alphabet(glob.glob(\"ddata/TKHMTH2200/TKH/label_char/*.txt\"),\"ddata/quickviet/alphabet_TKH.txt\")\n"
   ]
  },
  {
   "cell_type": "code",
   "execution_count": null,
   "metadata": {},
   "outputs": [],
   "source": [
    "from osocr_tasks.athena.quickptg1 import prepare_pt\n",
    "prepare_pt(\"/home/izhangxm/Desktop/work/main/VSDF/ddata/quickviet\")\n",
    "\n",
    "\n",
    "\n",
    "\n",
    "\n",
    "\n"
   ]
  },
  {
   "cell_type": "code",
   "execution_count": 11,
   "metadata": {},
   "outputs": [],
   "source": [
    "from neko_sdk.lmdb_wrappers.im_lmdb_wrapper import im_lmdb_wrapper\n",
    "import glob\n",
    "import os.path\n",
    "import cv2\n",
    "from pathlib import Path\n",
    "\n",
    "def cal_bounding_box(ps):\n",
    "    # 左下角，顺时针转圈, 返回左上角+右下角的信息\n",
    "    x1,y1,x2,y2,x3,y3,x4,y4 =  ps\n",
    "    _x1 = min(x1,x2,x3,x4)\n",
    "    _y1 = min(y1,y2,y3,y4)\n",
    "    _x2 = max(x1,x2,x3,x4)\n",
    "    _y2 = max(y1,y2,y3,y4)\n",
    "    return _x1,_y1,_x2,_y2\n",
    "\n",
    "def quick_lmdb(mth_dataset_dir,dst,lang=\"None\"):\n",
    "    img_dir = Path(os.path.join(mth_dataset_dir,\"img\"))\n",
    "    gt_dir = Path(os.path.join(mth_dataset_dir,\"label_textline\"))\n",
    "    \n",
    "    gt_file_path_list = glob.glob(str(gt_dir/\"*.txt\"))\n",
    "    db=im_lmdb_wrapper(dst)\n",
    "\n",
    "    for ii, char_file in enumerate(gt_file_path_list):\n",
    "        char_file = Path(char_file)\n",
    "        img_file_path = img_dir/ f\"{char_file.stem}.png\"\n",
    "        \n",
    "        if not img_file_path.exists():\n",
    "            img_file_path = img_dir/ f\"{char_file.stem}.jpg\"\n",
    "        \n",
    "        if not img_file_path.exists():\n",
    "            continue\n",
    "            \n",
    "        img_full = cv2.imread(str(img_file_path))\n",
    "        if ii % 100 == 0:\n",
    "            print(f\"{ii+1}/{len(gt_file_path_list)} {char_file}\")\n",
    "        try:\n",
    "            f = open(char_file, 'r')\n",
    "            lines = f.readlines()\n",
    "            for line in lines:\n",
    "                eles = line.replace(\"\\n\", \"\").split(',')\n",
    "                anno = eles[0]\n",
    "                ps = [int(_) for _ in eles[1:]]\n",
    "                x1,y1,x2,y2 = cal_bounding_box(ps)\n",
    "                img = img_full[y1:y2, x1:x2,:]\n",
    "                db.add_data_utf(img,anno,lang)\n",
    "        except Exception as e:\n",
    "            print(line)\n",
    "            print(img_file_path)\n",
    "        finally:\n",
    "            f.close()\n",
    "    db.end_this()"
   ]
  },
  {
   "cell_type": "code",
   "execution_count": null,
   "metadata": {},
   "outputs": [],
   "source": [
    "\n",
    "mth_dataset_dir = \"/home/izhangxm/Desktop/work/main/VSDF/ddata/TKHMTH2200/MTH1200\"\n",
    "dst = \"/home/izhangxm/Desktop/work/main/VSDF/ddata/lmdb/MTH1200\"\n",
    "quick_lmdb(mth_dataset_dir, dst)"
   ]
  },
  {
   "cell_type": "code",
   "execution_count": null,
   "metadata": {},
   "outputs": [],
   "source": [
    "mth_dataset_dir = \"/home/izhangxm/Desktop/work/main/VSDF/ddata/TKHMTH2200/MTH1000\"\n",
    "dst = \"/home/izhangxm/Desktop/work/main/VSDF/ddata/lmdb/MTH1000\"\n",
    "quick_lmdb(mth_dataset_dir, dst)\n"
   ]
  },
  {
   "cell_type": "code",
   "execution_count": 13,
   "metadata": {},
   "outputs": [
    {
     "name": "stdout",
     "output_type": "stream",
     "text": [
      "1/999 /home/izhangxm/Desktop/work/main/VSDF/ddata/TKHMTH2200/TKH/label_textline/0001_031_27_27.txt\n",
      "101/999 /home/izhangxm/Desktop/work/main/VSDF/ddata/TKHMTH2200/TKH/label_textline/0001_028_26_22.txt\n",
      "201/999 /home/izhangxm/Desktop/work/main/VSDF/ddata/TKHMTH2200/TKH/label_textline/0001_026_25_08.txt\n",
      "301/999 /home/izhangxm/Desktop/work/main/VSDF/ddata/TKHMTH2200/TKH/label_textline/0001_013_26_02.txt\n",
      "401/999 /home/izhangxm/Desktop/work/main/VSDF/ddata/TKHMTH2200/TKH/label_textline/0001_022_29_08.txt\n",
      "501/999 /home/izhangxm/Desktop/work/main/VSDF/ddata/TKHMTH2200/TKH/label_textline/0001_034_26_17.txt\n",
      "601/999 /home/izhangxm/Desktop/work/main/VSDF/ddata/TKHMTH2200/TKH/label_textline/0001_026_25_09.txt\n",
      "701/999 /home/izhangxm/Desktop/work/main/VSDF/ddata/TKHMTH2200/TKH/label_textline/0001_011_27_20.txt\n",
      "801/999 /home/izhangxm/Desktop/work/main/VSDF/ddata/TKHMTH2200/TKH/label_textline/0001_035_25_21.txt\n",
      "901/999 /home/izhangxm/Desktop/work/main/VSDF/ddata/TKHMTH2200/TKH/label_textline/0001_007_26_25.txt\n"
     ]
    }
   ],
   "source": [
    "mth_dataset_dir = \"/home/izhangxm/Desktop/work/main/VSDF/ddata/TKHMTH2200/TKH\"\n",
    "dst = \"/home/izhangxm/Desktop/work/main/VSDF/ddata/lmdb/TKH\"\n",
    "quick_lmdb(mth_dataset_dir, dst)\n"
   ]
  },
  {
   "cell_type": "code",
   "execution_count": 8,
   "metadata": {},
   "outputs": [
    {
     "data": {
      "text/plain": [
       "(3900, 6000, 3)"
      ]
     },
     "execution_count": 8,
     "metadata": {},
     "output_type": "execute_result"
    }
   ],
   "source": [
    "import cv2\n",
    "img_path = \"/home/izhangxm/Desktop/work/main/VSDF/ddata/TKHMTH2200/MTH1200/img/GL_8_5_10.jpg\"\n",
    "img_full = cv2.imread(img_path)\n",
    "\n",
    "line = \"四法世閒沙門婆羅門及長壽天心,5475,3308,5475,791,5682,791,5682,3308\\n\"\n",
    "eles = line.replace(\"\\n\", \"\").split(',')\n",
    "anno = eles[0]\n",
    "ps = [int(_) for _ in eles[1:]]\n",
    "x1,y1,x2,y2 = cal_bounding_box(ps)\n",
    "img = img_full[y1:y2, x1:x2,:]\n",
    "cv2.imwrite(\"a.jpg\", img)\n"
   ]
  },
  {
   "cell_type": "code",
   "execution_count": 32,
   "metadata": {},
   "outputs": [
    {
     "name": "stdout",
     "output_type": "stream",
     "text": [
      "132454\n",
      "132454\n"
     ]
    }
   ],
   "source": [
    "import lmdb\n",
    "\n",
    "db_path = \"ddata/MTH_DB/MTH1200\"\n",
    "env = lmdb.open(db_path)\n",
    "with env.begin(write=False) as txn:\n",
    "    length = txn.stat()['entries']\n",
    "    print(length)\n",
    "    keys = list(txn.cursor().iternext(values=False))\n",
    "    print(len(keys))\n",
    "\n",
    "env.close()"
   ]
  },
  {
   "cell_type": "code",
   "execution_count": 33,
   "metadata": {},
   "outputs": [],
   "source": [
    "with open(\"aa.txt\", 'w+') as f:\n",
    "    for ele in keys:\n",
    "        f.write(f\"{ele.decode()}\\n\")\n"
   ]
  },
  {
   "cell_type": "code",
   "execution_count": null,
   "metadata": {},
   "outputs": [],
   "source": []
  },
  {
   "cell_type": "code",
   "execution_count": null,
   "metadata": {},
   "outputs": [],
   "source": []
  }
 ],
 "metadata": {
  "kernelspec": {
   "display_name": "vsdf",
   "language": "python",
   "name": "python3"
  },
  "language_info": {
   "codemirror_mode": {
    "name": "ipython",
    "version": 3
   },
   "file_extension": ".py",
   "mimetype": "text/x-python",
   "name": "python",
   "nbconvert_exporter": "python",
   "pygments_lexer": "ipython3",
   "version": "3.8.15"
  },
  "orig_nbformat": 4
 },
 "nbformat": 4,
 "nbformat_minor": 2
}
