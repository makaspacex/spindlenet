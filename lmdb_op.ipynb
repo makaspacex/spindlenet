{
 "cells": [
  {
   "cell_type": "code",
   "execution_count": 4,
   "metadata": {},
   "outputs": [
    {
     "name": "stdout",
     "output_type": "stream",
     "text": [
      "240952\n",
      "240952\n"
     ]
    }
   ],
   "source": [
    "import lmdb\n",
    "from data_root import find_data_root\n",
    "\n",
    "# db_path = f\"{find_data_root()}/MTH1200_train\"\n",
    "db_path = f\"{find_data_root()}/TKHMTH2200_train\"\n",
    "env = lmdb.open(db_path)\n",
    "with env.begin(write=False) as txn:\n",
    "    length = txn.stat()['entries']\n",
    "    print(length)\n",
    "    keys = list(txn.cursor().iternext(values=False))\n",
    "    # keys = txn.cursor().iternext(values=False)\n",
    "    print(len(keys))\n",
    "env.close()"
   ]
  },
  {
   "cell_type": "code",
   "execution_count": 5,
   "metadata": {},
   "outputs": [
    {
     "name": "stdout",
     "output_type": "stream",
     "text": [
      "80317 80317 80317\n"
     ]
    }
   ],
   "source": [
    "kk = [str(_.decode()).split(\"-\")[0] for _ in keys]\n",
    "im_n, label_n, lang_n = 0,0,0\n",
    "for k in kk:\n",
    "    k = str(k)\n",
    "    if k == 'image':\n",
    "        im_n += 1\n",
    "    elif k == 'label':\n",
    "        label_n+=1\n",
    "    elif k =='lang':\n",
    "        lang_n += 1\n",
    "\n",
    "print(im_n, label_n, lang_n)\n"
   ]
  },
  {
   "cell_type": "code",
   "execution_count": 8,
   "metadata": {},
   "outputs": [],
   "source": [
    "kk = [str(_.decode()).split(\"-\")[-1]  for _ in keys if \"num\" not in str(_.decode())]\n",
    "index_num = sorted(list(set(kk)))"
   ]
  },
  {
   "cell_type": "code",
   "execution_count": null,
   "metadata": {},
   "outputs": [],
   "source": []
  }
 ],
 "metadata": {
  "kernelspec": {
   "display_name": "vsdf",
   "language": "python",
   "name": "python3"
  },
  "language_info": {
   "codemirror_mode": {
    "name": "ipython",
    "version": 3
   },
   "file_extension": ".py",
   "mimetype": "text/x-python",
   "name": "python",
   "nbconvert_exporter": "python",
   "pygments_lexer": "ipython3",
   "version": "3.8.15"
  },
  "orig_nbformat": 4
 },
 "nbformat": 4,
 "nbformat_minor": 2
}
