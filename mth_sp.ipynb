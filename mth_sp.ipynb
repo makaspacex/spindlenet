{
 "cells": [
  {
   "cell_type": "code",
   "execution_count": 2,
   "metadata": {},
   "outputs": [],
   "source": [
    "import glob\n",
    "import opencc\n",
    "import copy\n",
    "from IPython.display import display as print\n",
    "from typing import List, Dict, Tuple, Optional,Union\n",
    "from fontTools.ttLib import TTFont\n",
    "from pathlib import Path\n",
    "import cv2\n",
    "from PIL import ImageFont, Image, ImageDraw\n",
    "import textwrap\n",
    "import glob\n",
    "from tqdm.notebook import tqdm\n",
    "import os\n",
    "from neko_sdk.ocr_modules.charset.etc_cset import latin62 \n",
    "from util import *\n",
    "\n",
    "db_names = [\"MTH1000\", \"MTH1200\", \"TKH\"]\n"
   ]
  },
  {
   "cell_type": "code",
   "execution_count": 6,
   "metadata": {},
   "outputs": [],
   "source": [
    "\n",
    "# for db_name in db_names:\n",
    "#     _rr = make_alphabet_v2(glob.glob(f\"ddata/TKHMTH2200/{db_name}/label_textline/*.txt\"),f\"runtime/alphabet_{db_name}_ssss.txt\")\n",
    "#     pass\n",
    "\n",
    "train_file_path = \"ddata/mth_ori_splite/train.txt\"\n",
    "test_file_path = \"ddata/mth_ori_splite/test.txt\"\n",
    "mth_dir =\"ddata/TKHMTH2200\"\n",
    "\n",
    "with open(train_file_path, \"r\") as f:\n",
    "    train_list = f.readlines()\n",
    "    train_list = process_mth_path(train_list, mth_dir)\n",
    "\n",
    "with open(test_file_path, \"r\") as f:\n",
    "    test_list = f.readlines()\n",
    "    test_list = process_mth_path(test_list, mth_dir)\n",
    "\n",
    "db_name = \"TKHMTH2200\"\n",
    "# recdatassd_root = \"/home/izhangxm/mnt/hotssd/recdatassd\"\n",
    "recdatassd_root = \"/home/izhangxm/Downloads/runtime\"\n",
    "_rr = make_alphabet_v2(train_list, f\"{recdatassd_root}/{db_name}_train/alphabet_{db_name}_train.txt\")\n",
    "_rr = make_alphabet_v2(test_list, f\"{recdatassd_root}/{db_name}_test_all/alphabet_{db_name}_test_all.txt\")\n"
   ]
  },
  {
   "cell_type": "code",
   "execution_count": null,
   "metadata": {},
   "outputs": [],
   "source": [
    "# quick_lmdb_for_mth(train_list, f\"{recdatassd_root}/{db_name}_train\", lang=\"None\")\n",
    "# quick_lmdb_for_mth(test_list, f\"{recdatassd_root}/{db_name}_test_all\", lang=\"None\")"
   ]
  },
  {
   "cell_type": "code",
   "execution_count": 4,
   "metadata": {},
   "outputs": [
    {
     "name": "stdout",
     "output_type": "stream",
     "text": [
      "0 of 6260\n"
     ]
    },
    {
     "name": "stderr",
     "output_type": "stream",
     "text": [
      "/home/izhangxm/Desktop/work/main/VSDF/neko_sdk/ocr_modules/renderlite/lib_render.py:335: UserWarning: Creating a tensor from a list of numpy.ndarrays is extremely slow. Please consider converting the list to a single numpy.ndarray with numpy.array() before converting to a tensor. (Triggered internally at  /opt/conda/conda-bld/pytorch_1659484657607/work/torch/csrc/utils/tensor_new.cpp:204.)\n",
      "  protos.append(torch.tensor([protol[:, :, 0:1]]).float().permute(0, 3, 1, 2).contiguous());\n"
     ]
    },
    {
     "name": "stdout",
     "output_type": "stream",
     "text": [
      "500 of 6260\n",
      "1000 of 6260\n",
      "1500 of 6260\n",
      "2000 of 6260\n",
      "2500 of 6260\n",
      "3000 of 6260\n",
      "3500 of 6260\n",
      "4000 of 6260\n",
      "4500 of 6260\n",
      "5000 of 6260\n",
      "5500 of 6260\n",
      "6000 of 6260\n"
     ]
    },
    {
     "data": {
      "text/plain": [
       "'/home/izhangxm/Downloads/runtime/TKHMTH2200_train/dict_train.pt'"
      ]
     },
     "execution_count": 4,
     "metadata": {},
     "output_type": "execute_result"
    }
   ],
   "source": [
    "font_paths = glob.glob(\"ddata/fonts/HanaMin/**/*.ttf\", recursive=True)\n",
    "\n",
    "_alphabet = f\"{recdatassd_root}/{db_name}_train/alphabet_{db_name}_train.txt\"\n",
    "make_dict(_alphabet, font_paths, f\"{recdatassd_root}/{db_name}_train/dict_train.pt\", force_rebuild=False)\n"
   ]
  },
  {
   "cell_type": "code",
   "execution_count": 5,
   "metadata": {},
   "outputs": [
    {
     "name": "stdout",
     "output_type": "stream",
     "text": [
      "0 of 4420\n",
      "500 of 4420\n",
      "1000 of 4420\n",
      "1500 of 4420\n",
      "2000 of 4420\n",
      "2500 of 4420\n",
      "3000 of 4420\n",
      "3500 of 4420\n",
      "4000 of 4420\n"
     ]
    },
    {
     "data": {
      "text/plain": [
       "'/home/izhangxm/Downloads/runtime/TKHMTH2200_test_all/dict_test_all.pt'"
      ]
     },
     "execution_count": 5,
     "metadata": {},
     "output_type": "execute_result"
    }
   ],
   "source": [
    "_alphabet = f\"{recdatassd_root}/{db_name}_test_all/alphabet_{db_name}_test_all.txt\"\n",
    "make_dict(_alphabet, font_paths, f\"{recdatassd_root}/{db_name}_test_all/dict_test_all.pt\", force_rebuild=False)\n",
    "\n"
   ]
  }
 ],
 "metadata": {
  "kernelspec": {
   "display_name": "vsdf",
   "language": "python",
   "name": "python3"
  },
  "language_info": {
   "codemirror_mode": {
    "name": "ipython",
    "version": 3
   },
   "file_extension": ".py",
   "mimetype": "text/x-python",
   "name": "python",
   "nbconvert_exporter": "python",
   "pygments_lexer": "ipython3",
   "version": "3.8.15"
  },
  "orig_nbformat": 4
 },
 "nbformat": 4,
 "nbformat_minor": 2
}
