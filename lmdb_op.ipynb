{
 "cells": [
  {
   "cell_type": "code",
   "execution_count": 1,
   "metadata": {},
   "outputs": [
    {
     "name": "stdout",
     "output_type": "stream",
     "text": [
      "99763\n",
      "99763\n"
     ]
    }
   ],
   "source": [
    "import lmdb\n",
    "from data_root import find_data_root\n",
    "\n",
    "db_path = f\"{find_data_root()}/MTH1200_train\"\n",
    "env = lmdb.open(db_path)\n",
    "with env.begin(write=False) as txn:\n",
    "    length = txn.stat()['entries']\n",
    "    print(length)\n",
    "    keys = list(txn.cursor().iternext(values=False))\n",
    "    print(len(keys))\n",
    "env.close()"
   ]
  },
  {
   "cell_type": "code",
   "execution_count": 6,
   "metadata": {},
   "outputs": [
    {
     "data": {
      "text/plain": [
       "{\"b'image\", \"b'label\", \"b'lang\", \"b'num\"}"
      ]
     },
     "execution_count": 6,
     "metadata": {},
     "output_type": "execute_result"
    }
   ],
   "source": [
    "a = [str(_).split(\"-\")[0] for _ in keys]\n",
    "\n",
    "set(a)"
   ]
  },
  {
   "cell_type": "code",
   "execution_count": null,
   "metadata": {},
   "outputs": [],
   "source": []
  }
 ],
 "metadata": {
  "kernelspec": {
   "display_name": "vsdf",
   "language": "python",
   "name": "python3"
  },
  "language_info": {
   "codemirror_mode": {
    "name": "ipython",
    "version": 3
   },
   "file_extension": ".py",
   "mimetype": "text/x-python",
   "name": "python",
   "nbconvert_exporter": "python",
   "pygments_lexer": "ipython3",
   "version": "3.8.15"
  },
  "orig_nbformat": 4
 },
 "nbformat": 4,
 "nbformat_minor": 2
}
