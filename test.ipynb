{
 "cells": [
  {
   "cell_type": "code",
   "execution_count": null,
   "metadata": {},
   "outputs": [],
   "source": [
    "import torch\n",
    "import pickle\n",
    "import numpy as np\n",
    "images_t = torch.load(\"runtime/batch_images4.pt\")\n",
    "\n",
    "aa = images_t.numpy()\n",
    "print(aa.shape)\n",
    "\n",
    "from PIL import Image\n",
    "for i in range(10):\n",
    "    img = Image.fromarray((aa[i] * 255).astype(np.uint8).transpose(1, 2, 0) )\n",
    "    print(img)\n",
    "    # print((aa[0] * 255).astype(np.uint8).shape)\n",
    "\n",
    "\n"
   ]
  },
  {
   "cell_type": "code",
   "execution_count": null,
   "metadata": {},
   "outputs": [],
   "source": [
    "import cv2\n",
    "from util import cal_bounding_box\n",
    "\n",
    "def line_image_test():\n",
    "    img_path = \"/home/izhangxm/Desktop/work/main/VSDF/ddata/TKHMTH2200/MTH1200/img/GL_8_5_10.jpg\"\n",
    "    img_full = cv2.imread(img_path)\n",
    "    line = \"四法世閒沙門婆羅門及長壽天心,5475,3308,5475,791,5682,791,5682,3308\\n\"\n",
    "    eles = line.replace(\"\\n\", \"\").split(',')\n",
    "    anno = eles[0]\n",
    "    ps = [int(_) for _ in eles[1:]]\n",
    "    x1,y1,x2,y2 = cal_bounding_box(ps)\n",
    "    img = img_full[y1:y2, x1:x2,:]\n",
    "    cv2.imwrite(\"runtime/a.jpg\", img)\n",
    "# line_image_test()"
   ]
  }
 ],
 "metadata": {
  "language_info": {
   "name": "python"
  },
  "orig_nbformat": 4
 },
 "nbformat": 4,
 "nbformat_minor": 2
}
